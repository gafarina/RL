{
  "nbformat": 4,
  "nbformat_minor": 0,
  "metadata": {
    "kernelspec": {
      "display_name": "Python 3",
      "language": "python",
      "name": "python3"
    },
    "language_info": {
      "codemirror_mode": {
        "name": "ipython",
        "version": 3
      },
      "file_extension": ".py",
      "mimetype": "text/x-python",
      "name": "python",
      "nbconvert_exporter": "python",
      "pygments_lexer": "ipython3",
      "version": "3.6.5"
    },
    "colab": {
      "name": "Homework1.ipynb",
      "provenance": [],
      "collapsed_sections": [
        "2bEaL1T4Y8Rh",
        "DSVG0IXOY8Rh",
        "FCBEXEJ2Y8Rr",
        "i5b_qC1CY8R1"
      ],
      "include_colab_link": true
    }
  },
  "cells": [
    {
      "cell_type": "markdown",
      "metadata": {
        "id": "view-in-github",
        "colab_type": "text"
      },
      "source": [
        "<a href=\"https://colab.research.google.com/github/gafarina/RL/blob/master/Homework1.ipynb\" target=\"_parent\"><img src=\"https://colab.research.google.com/assets/colab-badge.svg\" alt=\"Open In Colab\"/></a>"
      ]
    },
    {
      "cell_type": "markdown",
      "metadata": {
        "id": "reLg6rihY8Qk",
        "colab_type": "text"
      },
      "source": [
        "# Programming assignment (Linear models, Optimization)\n",
        "\n",
        "In this programming assignment you will implement a linear classifier and train it using stochastic gradient descent modifications and numpy."
      ]
    },
    {
      "cell_type": "code",
      "metadata": {
        "id": "Luh1F67EaCdR",
        "colab_type": "code",
        "outputId": "f85019f1-4683-425f-a1df-e2a3e925fe9c",
        "colab": {
          "base_uri": "https://localhost:8080/",
          "height": 228
        }
      },
      "source": [
        "! shred -u setup_google_colab.py\n",
        "! wget https://raw.githubusercontent.com/hse-aml/intro-to-dl/master/setup_google_colab.py -O setup_google_colab.py\n",
        "import setup_google_colab\n",
        "setup_google_colab.setup_week1()"
      ],
      "execution_count": 1,
      "outputs": [
        {
          "output_type": "stream",
          "text": [
            "shred: setup_google_colab.py: failed to open for writing: No such file or directory\n",
            "--2020-03-24 11:59:32--  https://raw.githubusercontent.com/hse-aml/intro-to-dl/master/setup_google_colab.py\n",
            "Resolving raw.githubusercontent.com (raw.githubusercontent.com)... 151.101.0.133, 151.101.64.133, 151.101.128.133, ...\n",
            "Connecting to raw.githubusercontent.com (raw.githubusercontent.com)|151.101.0.133|:443... connected.\n",
            "HTTP request sent, awaiting response... 200 OK\n",
            "Length: 3636 (3.6K) [text/plain]\n",
            "Saving to: ‘setup_google_colab.py’\n",
            "\n",
            "setup_google_colab. 100%[===================>]   3.55K  --.-KB/s    in 0s      \n",
            "\n",
            "2020-03-24 11:59:33 (55.4 MB/s) - ‘setup_google_colab.py’ saved [3636/3636]\n",
            "\n"
          ],
          "name": "stdout"
        }
      ]
    },
    {
      "cell_type": "code",
      "metadata": {
        "id": "c97N0T2hY8Qs",
        "colab_type": "code",
        "colab": {}
      },
      "source": [
        "import sys\n",
        "sys.path.append(\"..\")\n",
        "import grading\n",
        "grader = grading.Grader(assignment_key=\"UaHtvpEFEee0XQ6wjK-hZg\", \n",
        "                      all_parts=[\"xU7U4\", \"HyTF6\", \"uNidL\", \"ToK7N\", \"GBdgZ\", \"dLdHG\"])"
      ],
      "execution_count": 0,
      "outputs": []
    },
    {
      "cell_type": "code",
      "metadata": {
        "id": "rsYcnMxzY8Qn",
        "colab_type": "code",
        "colab": {}
      },
      "source": [
        "import numpy as np\n",
        "%matplotlib inline\n",
        "import matplotlib.pyplot as plt"
      ],
      "execution_count": 0,
      "outputs": []
    },
    {
      "cell_type": "code",
      "metadata": {
        "id": "LOAe2ssVY8Qv",
        "colab_type": "code",
        "outputId": "395e70d4-b4c2-442b-efab-c5ad9b36ceac",
        "colab": {
          "base_uri": "https://localhost:8080/",
          "height": 132
        }
      },
      "source": [
        "# token expires every 30 min\n",
        "COURSERA_TOKEN = ### YOUR TOKEN HERE\n",
        "COURSERA_EMAIL = ### YOUR EMAIL HERE"
      ],
      "execution_count": 0,
      "outputs": [
        {
          "output_type": "error",
          "ename": "SyntaxError",
          "evalue": "ignored",
          "traceback": [
            "\u001b[0;36m  File \u001b[0;32m\"<ipython-input-10-0bc11133d375>\"\u001b[0;36m, line \u001b[0;32m1\u001b[0m\n\u001b[0;31m    COURSERA_TOKEN = ### YOUR TOKEN HERE\u001b[0m\n\u001b[0m                                        ^\u001b[0m\n\u001b[0;31mSyntaxError\u001b[0m\u001b[0;31m:\u001b[0m invalid syntax\n"
          ]
        }
      ]
    },
    {
      "cell_type": "markdown",
      "metadata": {
        "id": "DcGS1e3vY8Qy",
        "colab_type": "text"
      },
      "source": [
        "## Two-dimensional classification\n",
        "\n",
        "To make things more intuitive, let's solve a 2D classification problem with synthetic data."
      ]
    },
    {
      "cell_type": "code",
      "metadata": {
        "id": "vUzpAoDLY8Qy",
        "colab_type": "code",
        "outputId": "1763f154-e6b0-4b03-8b32-ce149363e677",
        "colab": {
          "base_uri": "https://localhost:8080/",
          "height": 265
        }
      },
      "source": [
        "with open('train.npy', 'rb') as fin:\n",
        "    X = np.load(fin)\n",
        "    \n",
        "with open('target.npy', 'rb') as fin:\n",
        "    y = np.load(fin)\n",
        "\n",
        "plt.scatter(X[:, 0], X[:, 1], c=y, cmap=plt.cm.Paired, s=20)\n",
        "plt.show()"
      ],
      "execution_count": 4,
      "outputs": [
        {
          "output_type": "display_data",
          "data": {
            "image/png": "[encoded data removed]",
            "text/plain": [
              "<Figure size 432x288 with 1 Axes>"
            ]
          },
          "metadata": {
            "tags": []
          }
        }
      ]
    },
    {
      "cell_type": "markdown",
      "metadata": {
        "id": "dUGAa5ZaY8Q1",
        "colab_type": "text"
      },
      "source": [
        "# Task\n",
        "\n",
        "## Features\n",
        "\n",
        "As you can notice the data above isn't linearly separable. Since that we should add features (or use non-linear model). Note that decision line between two classes have form of circle, since that we can add quadratic features to make the problem linearly separable. The idea under this displayed on image below:\n",
        "\n",
        "![](https://github.com/hse-aml/intro-to-dl/blob/master/week1/kernel.png?raw=1)"
      ]
    },
    {
      "cell_type": "code",
      "metadata": {
        "id": "H0deJwE1Y8Q2",
        "colab_type": "code",
        "colab": {}
      },
      "source": [
        "def expand(X):\n",
        "    \"\"\"\n",
        "    Adds quadratic features. \n",
        "    This expansion allows your linear model to make non-linear separation.\n",
        "    \n",
        "    For each sample (row in matrix), compute an expanded row:\n",
        "    [feature0, feature1, feature0^2, feature1^2, feature0*feature1, 1]\n",
        "    \n",
        "    :param X: matrix of features, shape [n_samples,2]\n",
        "    :returns: expanded features of shape [n_samples,6]\n",
        "    \"\"\"\n",
        "    X_expanded = np.zeros((X.shape[0], 6))\n",
        "    \n",
        "    # TODO:<your code here>"
      ],
      "execution_count": 0,
      "outputs": []
    },
    {
      "cell_type": "code",
      "metadata": {
        "id": "DEbdRxeuY8Q5",
        "colab_type": "code",
        "colab": {}
      },
      "source": [
        "X_expanded = expand(X)"
      ],
      "execution_count": 0,
      "outputs": []
    },
    {
      "cell_type": "markdown",
      "metadata": {
        "id": "ghYvxzWEY8Q7",
        "colab_type": "text"
      },
      "source": [
        "Here are some tests for your implementation of `expand` function."
      ]
    },
    {
      "cell_type": "code",
      "metadata": {
        "id": "kVpW9lU0Y8Q8",
        "colab_type": "code",
        "colab": {}
      },
      "source": [
        "# simple test on random numbers\n",
        "\n",
        "dummy_X = np.array([\n",
        "        [0,0],\n",
        "        [1,0],\n",
        "        [2.61,-1.28],\n",
        "        [-0.59,2.1]\n",
        "    ])\n",
        "\n",
        "# call your expand function\n",
        "dummy_expanded = expand(dummy_X)\n",
        "\n",
        "# what it should have returned:   x0       x1       x0^2     x1^2     x0*x1    1\n",
        "dummy_expanded_ans = np.array([[ 0.    ,  0.    ,  0.    ,  0.    ,  0.    ,  1.    ],\n",
        "                               [ 1.    ,  0.    ,  1.    ,  0.    ,  0.    ,  1.    ],\n",
        "                               [ 2.61  , -1.28  ,  6.8121,  1.6384, -3.3408,  1.    ],\n",
        "                               [-0.59  ,  2.1   ,  0.3481,  4.41  , -1.239 ,  1.    ]])\n",
        "\n",
        "#tests\n",
        "assert isinstance(dummy_expanded,np.ndarray), \"please make sure you return numpy array\"\n",
        "assert dummy_expanded.shape == dummy_expanded_ans.shape, \"please make sure your shape is correct\"\n",
        "assert np.allclose(dummy_expanded,dummy_expanded_ans,1e-3), \"Something's out of order with features\"\n",
        "\n",
        "print(\"Seems legit!\")\n"
      ],
      "execution_count": 0,
      "outputs": []
    },
    {
      "cell_type": "markdown",
      "metadata": {
        "id": "4_E-zLjgY8Q_",
        "colab_type": "text"
      },
      "source": [
        "## Logistic regression\n",
        "\n",
        "To classify objects we will obtain probability of object belongs to class '1'. To predict probability we will use output of linear model and logistic function:\n",
        "\n",
        "$$ a(x; w) = \\langle w, x \\rangle $$\n",
        "$$ P( y=1 \\; \\big| \\; x, \\, w) = \\dfrac{1}{1 + \\exp(- \\langle w, x \\rangle)} = \\sigma(\\langle w, x \\rangle)$$\n"
      ]
    },
    {
      "cell_type": "code",
      "metadata": {
        "id": "bZL8gHuuY8Q_",
        "colab_type": "code",
        "colab": {}
      },
      "source": [
        "def probability(X, w):\n",
        "    \"\"\"\n",
        "    Given input features and weights\n",
        "    return predicted probabilities of y==1 given x, P(y=1|x), see description above\n",
        "        \n",
        "    Don't forget to use expand(X) function (where necessary) in this and subsequent functions.\n",
        "    \n",
        "    :param X: feature matrix X of shape [n_samples,6] (expanded)\n",
        "    :param w: weight vector w of shape [6] for each of the expanded features\n",
        "    :returns: an array of predicted probabilities in [0,1] interval.\n",
        "    \"\"\"\n",
        "\n",
        "    # TODO:<your code here>"
      ],
      "execution_count": 0,
      "outputs": []
    },
    {
      "cell_type": "code",
      "metadata": {
        "id": "RbvlZC6KY8RC",
        "colab_type": "code",
        "colab": {}
      },
      "source": [
        "dummy_weights = np.linspace(-1, 1, 6)\n",
        "ans_part1 = probability(X_expanded[:1, :], dummy_weights)[0]"
      ],
      "execution_count": 0,
      "outputs": []
    },
    {
      "cell_type": "code",
      "metadata": {
        "id": "R0w9L7NsY8RE",
        "colab_type": "code",
        "colab": {}
      },
      "source": [
        "## GRADED PART, DO NOT CHANGE!\n",
        "grader.set_answer(\"xU7U4\", ans_part1)"
      ],
      "execution_count": 0,
      "outputs": []
    },
    {
      "cell_type": "code",
      "metadata": {
        "id": "_TlmKUE-Y8RG",
        "colab_type": "code",
        "colab": {}
      },
      "source": [
        "# you can make submission with answers so far to check yourself at this stage\n",
        "grader.submit(COURSERA_EMAIL, COURSERA_TOKEN)"
      ],
      "execution_count": 0,
      "outputs": []
    },
    {
      "cell_type": "markdown",
      "metadata": {
        "id": "s6kk7MCMY8RI",
        "colab_type": "text"
      },
      "source": [
        "In logistic regression the optimal parameters $w$ are found by cross-entropy minimization:\n",
        "\n",
        "Loss for one sample: $$ l(x_i, y_i, w) = - \\left[ {y_i \\cdot log P(y_i = 1 \\, | \\, x_i,w) + (1-y_i) \\cdot log (1-P(y_i = 1\\, | \\, x_i,w))}\\right] $$\n",
        "\n",
        "Loss for many samples: $$ L(X, \\vec{y}, w) =  {1 \\over \\ell} \\sum_{i=1}^\\ell l(x_i, y_i, w) $$\n",
        "\n"
      ]
    },
    {
      "cell_type": "code",
      "metadata": {
        "id": "06H7F06VY8RJ",
        "colab_type": "code",
        "colab": {}
      },
      "source": [
        "def compute_loss(X, y, w):\n",
        "    \"\"\"\n",
        "    Given feature matrix X [n_samples,6], target vector [n_samples] of 1/0,\n",
        "    and weight vector w [6], compute scalar loss function L using formula above.\n",
        "    Keep in mind that our loss is averaged over all samples (rows) in X.\n",
        "    \"\"\"\n",
        "    # TODO:<your code here>"
      ],
      "execution_count": 0,
      "outputs": []
    },
    {
      "cell_type": "code",
      "metadata": {
        "id": "pffA1EFtY8RM",
        "colab_type": "code",
        "colab": {}
      },
      "source": [
        "# use output of this cell to fill answer field \n",
        "ans_part2 = compute_loss(X_expanded, y, dummy_weights)"
      ],
      "execution_count": 0,
      "outputs": []
    },
    {
      "cell_type": "code",
      "metadata": {
        "id": "ALRFLDcdY8RO",
        "colab_type": "code",
        "colab": {}
      },
      "source": [
        "## GRADED PART, DO NOT CHANGE!\n",
        "grader.set_answer(\"HyTF6\", ans_part2)"
      ],
      "execution_count": 0,
      "outputs": []
    },
    {
      "cell_type": "code",
      "metadata": {
        "id": "7o5D6LAlY8RQ",
        "colab_type": "code",
        "colab": {}
      },
      "source": [
        "# you can make submission with answers so far to check yourself at this stage\n",
        "grader.submit(COURSERA_EMAIL, COURSERA_TOKEN)"
      ],
      "execution_count": 0,
      "outputs": []
    },
    {
      "cell_type": "markdown",
      "metadata": {
        "id": "aoPz87yKY8RT",
        "colab_type": "text"
      },
      "source": [
        "Since we train our model with gradient descent, we should compute gradients.\n",
        "\n",
        "To be specific, we need a derivative of loss function over each weight [6 of them].\n",
        "\n",
        "$$ \\nabla_w L = {1 \\over \\ell} \\sum_{i=1}^\\ell \\nabla_w l(x_i, y_i, w) $$ \n",
        "\n",
        "We won't be giving you the exact formula this time — instead, try figuring out a derivative with pen and paper. \n",
        "\n",
        "As usual, we've made a small test for you, but if you need more, feel free to check your math against finite differences (estimate how $L$ changes if you shift $w$ by $10^{-5}$ or so)."
      ]
    },
    {
      "cell_type": "code",
      "metadata": {
        "id": "_KaikYFZY8RU",
        "colab_type": "code",
        "colab": {}
      },
      "source": [
        "def compute_grad(X, y, w):\n",
        "    \"\"\"\n",
        "    Given feature matrix X [n_samples,6], target vector [n_samples] of 1/0,\n",
        "    and weight vector w [6], compute vector [6] of derivatives of L over each weights.\n",
        "    Keep in mind that our loss is averaged over all samples (rows) in X.\n",
        "    \"\"\"\n",
        "    \n",
        "    # TODO<your code here>"
      ],
      "execution_count": 0,
      "outputs": []
    },
    {
      "cell_type": "code",
      "metadata": {
        "id": "1gzVevRBY8RW",
        "colab_type": "code",
        "colab": {}
      },
      "source": [
        "# use output of this cell to fill answer field \n",
        "ans_part3 = np.linalg.norm(compute_grad(X_expanded, y, dummy_weights))"
      ],
      "execution_count": 0,
      "outputs": []
    },
    {
      "cell_type": "code",
      "metadata": {
        "id": "FCWw0luGY8RY",
        "colab_type": "code",
        "colab": {}
      },
      "source": [
        "## GRADED PART, DO NOT CHANGE!\n",
        "grader.set_answer(\"uNidL\", ans_part3)"
      ],
      "execution_count": 0,
      "outputs": []
    },
    {
      "cell_type": "code",
      "metadata": {
        "id": "p1JpI6doY8Ra",
        "colab_type": "code",
        "colab": {}
      },
      "source": [
        "# you can make submission with answers so far to check yourself at this stage\n",
        "grader.submit(COURSERA_EMAIL, COURSERA_TOKEN)"
      ],
      "execution_count": 0,
      "outputs": []
    },
    {
      "cell_type": "markdown",
      "metadata": {
        "id": "WeEMOgKCY8Rc",
        "colab_type": "text"
      },
      "source": [
        "Here's an auxiliary function that visualizes the predictions:"
      ]
    },
    {
      "cell_type": "code",
      "metadata": {
        "id": "LV9AOnkIY8Rd",
        "colab_type": "code",
        "colab": {}
      },
      "source": [
        "from IPython import display\n",
        "\n",
        "h = 0.01\n",
        "x_min, x_max = X[:, 0].min() - 1, X[:, 0].max() + 1\n",
        "y_min, y_max = X[:, 1].min() - 1, X[:, 1].max() + 1\n",
        "xx, yy = np.meshgrid(np.arange(x_min, x_max, h), np.arange(y_min, y_max, h))\n",
        "\n",
        "def visualize(X, y, w, history):\n",
        "    \"\"\"draws classifier prediction with matplotlib magic\"\"\"\n",
        "    Z = probability(expand(np.c_[xx.ravel(), yy.ravel()]), w)\n",
        "    Z = Z.reshape(xx.shape)\n",
        "    plt.subplot(1, 2, 1)\n",
        "    plt.contourf(xx, yy, Z, alpha=0.8)\n",
        "    plt.scatter(X[:, 0], X[:, 1], c=y, cmap=plt.cm.Paired)\n",
        "    plt.xlim(xx.min(), xx.max())\n",
        "    plt.ylim(yy.min(), yy.max())\n",
        "    \n",
        "    plt.subplot(1, 2, 2)\n",
        "    plt.plot(history)\n",
        "    plt.grid()\n",
        "    ymin, ymax = plt.ylim()\n",
        "    plt.ylim(0, ymax)\n",
        "    display.clear_output(wait=True)\n",
        "    plt.show()"
      ],
      "execution_count": 0,
      "outputs": []
    },
    {
      "cell_type": "code",
      "metadata": {
        "id": "9fn9U1-AY8Rf",
        "colab_type": "code",
        "colab": {}
      },
      "source": [
        "visualize(X, y, dummy_weights, [0.5, 0.5, 0.25])"
      ],
      "execution_count": 0,
      "outputs": []
    },
    {
      "cell_type": "markdown",
      "metadata": {
        "id": "2bEaL1T4Y8Rh",
        "colab_type": "text"
      },
      "source": [
        "## Training\n",
        "In this section we'll use the functions you wrote to train our classifier using stochastic gradient descent.\n",
        "\n",
        "You can try change hyperparameters like batch size, learning rate and so on to find the best one, but use our hyperparameters when fill answers."
      ]
    },
    {
      "cell_type": "markdown",
      "metadata": {
        "id": "DSVG0IXOY8Rh",
        "colab_type": "text"
      },
      "source": [
        "## Mini-batch SGD\n",
        "\n",
        "Stochastic gradient descent just takes a random batch of $m$ samples on each iteration, calculates a gradient of the loss on it and makes a step:\n",
        "$$ w_t = w_{t-1} - \\eta \\dfrac{1}{m} \\sum_{j=1}^m \\nabla_w l(x_{i_j}, y_{i_j}, w_t) $$\n",
        "\n"
      ]
    },
    {
      "cell_type": "code",
      "metadata": {
        "collapsed": true,
        "id": "jBDXIE0nY8Ri",
        "colab_type": "code",
        "colab": {}
      },
      "source": [
        "# please use np.random.seed(42), eta=0.1, n_iter=100 and batch_size=4 for deterministic results\n",
        "\n",
        "np.random.seed(42)\n",
        "w = np.array([0, 0, 0, 0, 0, 1])\n",
        "\n",
        "eta= 0.1 # learning rate\n",
        "\n",
        "n_iter = 100\n",
        "batch_size = 4\n",
        "loss = np.zeros(n_iter)\n",
        "plt.figure(figsize=(12, 5))\n",
        "\n",
        "for i in range(n_iter):\n",
        "    ind = np.random.choice(X_expanded.shape[0], batch_size)\n",
        "    loss[i] = compute_loss(X_expanded, y, w)\n",
        "    if i % 10 == 0:\n",
        "        visualize(X_expanded[ind, :], y[ind], w, loss)\n",
        "\n",
        "    # Keep in mind that compute_grad already does averaging over batch for you!\n",
        "    # TODO:<your code here>\n",
        "\n",
        "visualize(X, y, w, loss)\n",
        "plt.clf()"
      ],
      "execution_count": 0,
      "outputs": []
    },
    {
      "cell_type": "code",
      "metadata": {
        "collapsed": true,
        "id": "aQ2W6WHSY8Rk",
        "colab_type": "code",
        "colab": {}
      },
      "source": [
        "# use output of this cell to fill answer field \n",
        "\n",
        "ans_part4 = compute_loss(X_expanded, y, w)"
      ],
      "execution_count": 0,
      "outputs": []
    },
    {
      "cell_type": "code",
      "metadata": {
        "collapsed": true,
        "id": "p2msvNt8Y8Rm",
        "colab_type": "code",
        "colab": {}
      },
      "source": [
        "## GRADED PART, DO NOT CHANGE!\n",
        "grader.set_answer(\"ToK7N\", ans_part4)"
      ],
      "execution_count": 0,
      "outputs": []
    },
    {
      "cell_type": "code",
      "metadata": {
        "collapsed": true,
        "id": "DzcJ7n_7Y8Ro",
        "colab_type": "code",
        "colab": {}
      },
      "source": [
        "# you can make submission with answers so far to check yourself at this stage\n",
        "grader.submit(COURSERA_EMAIL, COURSERA_TOKEN)"
      ],
      "execution_count": 0,
      "outputs": []
    },
    {
      "cell_type": "markdown",
      "metadata": {
        "id": "FCBEXEJ2Y8Rr",
        "colab_type": "text"
      },
      "source": [
        "## SGD with momentum\n",
        "\n",
        "Momentum is a method that helps accelerate SGD in the relevant direction and dampens oscillations as can be seen in image below. It does this by adding a fraction $\\alpha$ of the update vector of the past time step to the current update vector.\n",
        "<br>\n",
        "<br>\n",
        "\n",
        "$$ \\nu_t = \\alpha \\nu_{t-1} + \\eta\\dfrac{1}{m} \\sum_{j=1}^m \\nabla_w l(x_{i_j}, y_{i_j}, w_t) $$\n",
        "$$ w_t = w_{t-1} - \\nu_t$$\n",
        "\n",
        "<br>\n",
        "\n",
        "\n",
        "![](https://github.com/hse-aml/intro-to-dl/blob/master/week1/sgd.png?raw=1)\n"
      ]
    },
    {
      "cell_type": "code",
      "metadata": {
        "collapsed": true,
        "id": "ThMVNF-1Y8Rs",
        "colab_type": "code",
        "colab": {}
      },
      "source": [
        "# please use np.random.seed(42), eta=0.05, alpha=0.9, n_iter=100 and batch_size=4 for deterministic results\n",
        "np.random.seed(42)\n",
        "w = np.array([0, 0, 0, 0, 0, 1])\n",
        "\n",
        "eta = 0.05 # learning rate\n",
        "alpha = 0.9 # momentum\n",
        "nu = np.zeros_like(w)\n",
        "\n",
        "n_iter = 100\n",
        "batch_size = 4\n",
        "loss = np.zeros(n_iter)\n",
        "plt.figure(figsize=(12, 5))\n",
        "\n",
        "for i in range(n_iter):\n",
        "    ind = np.random.choice(X_expanded.shape[0], batch_size)\n",
        "    loss[i] = compute_loss(X_expanded, y, w)\n",
        "    if i % 10 == 0:\n",
        "        visualize(X_expanded[ind, :], y[ind], w, loss)\n",
        "\n",
        "    # TODO:<your code here>\n",
        "\n",
        "visualize(X, y, w, loss)\n",
        "plt.clf()"
      ],
      "execution_count": 0,
      "outputs": []
    },
    {
      "cell_type": "code",
      "metadata": {
        "collapsed": true,
        "id": "p9G23kFYY8Rv",
        "colab_type": "code",
        "colab": {}
      },
      "source": [
        "# use output of this cell to fill answer field \n",
        "\n",
        "ans_part5 = compute_loss(X_expanded, y, w)"
      ],
      "execution_count": 0,
      "outputs": []
    },
    {
      "cell_type": "code",
      "metadata": {
        "collapsed": true,
        "id": "r8aL-LMZY8Rx",
        "colab_type": "code",
        "colab": {}
      },
      "source": [
        "## GRADED PART, DO NOT CHANGE!\n",
        "grader.set_answer(\"GBdgZ\", ans_part5)"
      ],
      "execution_count": 0,
      "outputs": []
    },
    {
      "cell_type": "code",
      "metadata": {
        "collapsed": true,
        "id": "BfyEbc56Y8Rz",
        "colab_type": "code",
        "colab": {}
      },
      "source": [
        "# you can make submission with answers so far to check yourself at this stage\n",
        "grader.submit(COURSERA_EMAIL, COURSERA_TOKEN)"
      ],
      "execution_count": 0,
      "outputs": []
    },
    {
      "cell_type": "markdown",
      "metadata": {
        "id": "i5b_qC1CY8R1",
        "colab_type": "text"
      },
      "source": [
        "## RMSprop\n",
        "\n",
        "Implement RMSPROP algorithm, which use squared gradients to adjust learning rate:\n",
        "\n",
        "$$ G_j^t = \\alpha G_j^{t-1} + (1 - \\alpha) g_{tj}^2 $$\n",
        "$$ w_j^t = w_j^{t-1} - \\dfrac{\\eta}{\\sqrt{G_j^t + \\varepsilon}} g_{tj} $$"
      ]
    },
    {
      "cell_type": "code",
      "metadata": {
        "collapsed": true,
        "id": "dMrfI-xPY8R2",
        "colab_type": "code",
        "colab": {}
      },
      "source": [
        "# please use np.random.seed(42), eta=0.1, alpha=0.9, n_iter=100 and batch_size=4 for deterministic results\n",
        "np.random.seed(42)\n",
        "\n",
        "w = np.array([0, 0, 0, 0, 0, 1.])\n",
        "\n",
        "eta = 0.1 # learning rate\n",
        "alpha = 0.9 # moving average of gradient norm squared\n",
        "g2 = None # we start with None so that you can update this value correctly on the first iteration\n",
        "eps = 1e-8\n",
        "\n",
        "n_iter = 100\n",
        "batch_size = 4\n",
        "loss = np.zeros(n_iter)\n",
        "plt.figure(figsize=(12,5))\n",
        "for i in range(n_iter):\n",
        "    ind = np.random.choice(X_expanded.shape[0], batch_size)\n",
        "    loss[i] = compute_loss(X_expanded, y, w)\n",
        "    if i % 10 == 0:\n",
        "        visualize(X_expanded[ind, :], y[ind], w, loss)\n",
        "\n",
        "    # TODO:<your code here>\n",
        "\n",
        "visualize(X, y, w, loss)\n",
        "plt.clf()"
      ],
      "execution_count": 0,
      "outputs": []
    },
    {
      "cell_type": "code",
      "metadata": {
        "collapsed": true,
        "id": "vr9btllQY8R4",
        "colab_type": "code",
        "colab": {}
      },
      "source": [
        "# use output of this cell to fill answer field \n",
        "ans_part6 = compute_loss(X_expanded, y, w)"
      ],
      "execution_count": 0,
      "outputs": []
    },
    {
      "cell_type": "code",
      "metadata": {
        "collapsed": true,
        "id": "wWIQLLrnY8R6",
        "colab_type": "code",
        "colab": {}
      },
      "source": [
        "## GRADED PART, DO NOT CHANGE!\n",
        "grader.set_answer(\"dLdHG\", ans_part6)"
      ],
      "execution_count": 0,
      "outputs": []
    },
    {
      "cell_type": "code",
      "metadata": {
        "collapsed": true,
        "id": "eAh9AOsaY8R8",
        "colab_type": "code",
        "colab": {}
      },
      "source": [
        "grader.submit(COURSERA_EMAIL, COURSERA_TOKEN)"
      ],
      "execution_count": 0,
      "outputs": []
    }
  ]
}